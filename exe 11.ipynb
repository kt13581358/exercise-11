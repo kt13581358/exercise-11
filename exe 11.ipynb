{
 "cells": [
  {
   "cell_type": "code",
   "execution_count": 2,
   "id": "95ad8add",
   "metadata": {},
   "outputs": [],
   "source": [
    "def my_list(a,b):\n",
    "    import random\n",
    "    list1 = [random.randint(-10**a,10**b) for _ in range(10)]\n",
    "    even = [i for i in list1 if i %2 == 0]\n",
    "    odd = [i for i in list1 if i %2 == 1]\n",
    "    return  list1 , even , odd"
   ]
  },
  {
   "cell_type": "code",
   "execution_count": 3,
   "id": "94b7f3df",
   "metadata": {},
   "outputs": [
    {
     "data": {
      "text/plain": [
       "([859, 715, 82, 638, -52, 735, 625, 45, 476, 560],\n",
       " [82, 638, -52, 476, 560],\n",
       " [859, 715, 735, 625, 45])"
      ]
     },
     "execution_count": 3,
     "metadata": {},
     "output_type": "execute_result"
    }
   ],
   "source": [
    "my_list(2,3)"
   ]
  },
  {
   "cell_type": "code",
   "execution_count": 5,
   "id": "97e11376",
   "metadata": {},
   "outputs": [],
   "source": [
    "def divisible(a):\n",
    "    list2 = [i for i in range(a) if i % 5 == 0 or i % 6 == 0]\n",
    "    return list2"
   ]
  },
  {
   "cell_type": "code",
   "execution_count": 6,
   "id": "d05c800c",
   "metadata": {},
   "outputs": [
    {
     "data": {
      "text/plain": [
       "[0,\n",
       " 5,\n",
       " 6,\n",
       " 10,\n",
       " 12,\n",
       " 15,\n",
       " 18,\n",
       " 20,\n",
       " 24,\n",
       " 25,\n",
       " 30,\n",
       " 35,\n",
       " 36,\n",
       " 40,\n",
       " 42,\n",
       " 45,\n",
       " 48,\n",
       " 50,\n",
       " 54,\n",
       " 55,\n",
       " 60,\n",
       " 65,\n",
       " 66,\n",
       " 70,\n",
       " 72,\n",
       " 75,\n",
       " 78,\n",
       " 80,\n",
       " 84,\n",
       " 85,\n",
       " 90,\n",
       " 95,\n",
       " 96]"
      ]
     },
     "execution_count": 6,
     "metadata": {},
     "output_type": "execute_result"
    }
   ],
   "source": [
    "divisible(100)"
   ]
  },
  {
   "cell_type": "markdown",
   "id": "6ffefa60",
   "metadata": {},
   "source": [
    "تابعی بنویسید که یک کلمه خاص در یک فایل متنی را با کلمه دلخواه جایگزین کند"
   ]
  },
  {
   "cell_type": "code",
   "execution_count": null,
   "id": "a73f29fd",
   "metadata": {},
   "outputs": [
    {
     "name": "stdout",
     "output_type": "stream",
     "text": [
      "1.\tHorror: We like watching horror movies.\n",
      "2.\tSouth: We never traveled to southern cities.\n",
      "3.\tDairy: We don't like dairy products.\n",
      "1.\tHorror: We like watching horror movies.\n",
      "2.\tSouth: We never traveled to southern cities.\n",
      "3.\tDairy: We don't like dairy products.\n",
      "1.\tHorror: We like watching horror movies.\n",
      "2.\tSouth: We never traveled to southern cities.\n",
      "3.\tDairy: We don't like dairy products.\n"
     ]
    }
   ],
   "source": [
    "with open('t4.txt','r') as f:\n",
    "    c = f.read()\n",
    "c = c.replace('I','We')\n",
    "with open('t5.txt','w') as f:\n",
    "   f.write(c)\n",
    "with open('t5.txt','r') as d:\n",
    "    h = d.read()\n",
    "print(h)\n"
   ]
  },
  {
   "cell_type": "code",
   "execution_count": 3,
   "id": "a26d1614",
   "metadata": {},
   "outputs": [],
   "source": [
    "def my_replace(t1,t2):\n",
    "    with open('t4.txt','r') as f:\n",
    "        c = f.read()\n",
    "    c = c.replace('t1','t2')\n",
    "    with open('t5.txt','w') as f:\n",
    "        f.write(c)\n",
    "    with open('t5.txt','r') as f:\n",
    "        h = f.read()\n",
    "    print(h)\n"
   ]
  },
  {
   "cell_type": "code",
   "execution_count": 4,
   "id": "a3f23083",
   "metadata": {},
   "outputs": [
    {
     "name": "stdout",
     "output_type": "stream",
     "text": [
      "1.\tHorror: I like watching horror movies.\n",
      "2.\tSouth: I never traveled to southern cities.\n",
      "3.\tDairy: I don't like dairy products.\n",
      "1.\tHorror: I like watching horror movies.\n",
      "2.\tSouth: I never traveled to southern cities.\n",
      "3.\tDairy: I don't like dairy products.\n",
      "1.\tHorror: I like watching horror movies.\n",
      "2.\tSouth: I never traveled to southern cities.\n",
      "3.\tDairy: I don't like dairy products.\n"
     ]
    }
   ],
   "source": [
    "my_replace('W','I')"
   ]
  },
  {
   "cell_type": "code",
   "execution_count": null,
   "id": "c2a62b76",
   "metadata": {},
   "outputs": [],
   "source": [
    "def n_reverse_print(n):\n",
    "    from pprint import pprint\n",
    "    len(c)\n",
    "    b = len(c) - n\n",
    "    b"
   ]
  },
  {
   "cell_type": "code",
   "execution_count": null,
   "id": "3864b44d",
   "metadata": {},
   "outputs": [
    {
     "name": "stdout",
     "output_type": "stream",
     "text": [
      "char =  17\n",
      "words =  4\n",
      "['hello', 'how', 'are', 'you']\n"
     ]
    }
   ],
   "source": [
    "with open('t 1.txt','r') as f:\n",
    "    x = f.read()\n",
    "    #print(x)\n",
    "    a = len(x)\n",
    "    g = x.split()\n",
    "    print('char = ' ,a)\n",
    "    print('words = ' , len(g))\n",
    "    print(g)\n",
    "    l = [a,g]\n",
    "with open('t 6.txt','w') as f:\n",
    "    #f.write(a.g)\n",
    "#file_path = 't 1.txt'"
   ]
  },
  {
   "cell_type": "code",
   "execution_count": 70,
   "id": "4a2c6c37",
   "metadata": {},
   "outputs": [
    {
     "name": "stdout",
     "output_type": "stream",
     "text": [
      "Wed May  7 21:48:21 2025\n",
      "1404-02-17 21:48:21.975160\n",
      "17\n",
      "4\n"
     ]
    }
   ],
   "source": [
    "import os\n",
    "import time\n",
    "import jdatetime\n",
    "from datetime import datetime\n",
    "file_path = 't8.txt'\n",
    "creation_time = os.path.getctime(file_path)\n",
    "readable_time = time.ctime(creation_time)\n",
    "jalali_date = jdatetime.datetime.fromtimestamp(creation_time)\n",
    "with open('t 1.txt','r') as f:\n",
    "    x = f.read()\n",
    "    a = len(x)\n",
    "    w = len(x.split())\n",
    "with open('t 6.txt', 'w') as f:\n",
    "    f.write(f\"{str(readable_time)}\\n{str(jalali_date)}\\n{str(a)}\\n{str(w)}\")\n",
    "\n",
    "with open('t 6.txt', 'r') as f:\n",
    "    s = f.read()\n",
    "    print(s)\n",
    "    \n"
   ]
  },
  {
   "cell_type": "code",
   "execution_count": 2,
   "id": "ed4e3495",
   "metadata": {},
   "outputs": [],
   "source": [
    "def my_file(file_path): \n",
    "    import os\n",
    "    import time\n",
    "    import jdatetime\n",
    "    from datetime import datetime\n",
    "    #file_path = 't8.txt'\n",
    "    creation_time = os.path.getctime(file_path)\n",
    "    readable_time = time.ctime(creation_time)\n",
    "    jalali_date = jdatetime.datetime.fromtimestamp(creation_time)\n",
    "    with open(file_path,'r') as f:\n",
    "        x = f.read()\n",
    "        a = len(x)\n",
    "        w = len(x.split())\n",
    "    with open('t.txt', 'w') as f:\n",
    "        f.write(f\"{str(readable_time)}\\n{str(jalali_date)}\\n{str(a)}\\n{str(w)}\")\n",
    "\n",
    "    with open('t.txt', 'r') as f:\n",
    "        s = f.read()\n",
    "        print(s)\n",
    "    "
   ]
  },
  {
   "cell_type": "code",
   "execution_count": 3,
   "id": "76e31ff7",
   "metadata": {},
   "outputs": [
    {
     "name": "stdout",
     "output_type": "stream",
     "text": [
      "Thu May  1 18:19:17 2025\n",
      "1404-02-11 18:19:17.901529\n",
      "17\n",
      "4\n"
     ]
    }
   ],
   "source": [
    "my_file('t 1.txt')"
   ]
  }
 ],
 "metadata": {
  "kernelspec": {
   "display_name": "Python 3",
   "language": "python",
   "name": "python3"
  },
  "language_info": {
   "codemirror_mode": {
    "name": "ipython",
    "version": 3
   },
   "file_extension": ".py",
   "mimetype": "text/x-python",
   "name": "python",
   "nbconvert_exporter": "python",
   "pygments_lexer": "ipython3",
   "version": "3.10.10"
  }
 },
 "nbformat": 4,
 "nbformat_minor": 5
}
