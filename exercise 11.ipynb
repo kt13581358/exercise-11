{
 "cells": [
  {
   "cell_type": "markdown",
   "id": "216f7a2b",
   "metadata": {},
   "source": [
    "تمرین 1"
   ]
  },
  {
   "cell_type": "code",
   "execution_count": 3,
   "id": "b44845ab",
   "metadata": {},
   "outputs": [],
   "source": [
    "def my_replace(t1,t2):\n",
    "    with open('t4.txt','r') as f:\n",
    "        c = f.read()\n",
    "    c = c.replace('t1','t2')\n",
    "    with open('t5.txt','w') as f:\n",
    "        f.write(c)\n",
    "    with open('t5.txt','r') as f:\n",
    "        h = f.read()\n",
    "    print(h)\n"
   ]
  },
  {
   "cell_type": "code",
   "execution_count": 4,
   "id": "450e0df2",
   "metadata": {},
   "outputs": [
    {
     "name": "stdout",
     "output_type": "stream",
     "text": [
      "1.\tHorror: I like watching horror movies.\n",
      "2.\tSouth: I never traveled to southern cities.\n",
      "3.\tDairy: I don't like dairy products.\n",
      "1.\tHorror: I like watching horror movies.\n",
      "2.\tSouth: I never traveled to southern cities.\n",
      "3.\tDairy: I don't like dairy products.\n",
      "1.\tHorror: I like watching horror movies.\n",
      "2.\tSouth: I never traveled to southern cities.\n",
      "3.\tDairy: I don't like dairy products.\n"
     ]
    }
   ],
   "source": [
    "my_replace('W','I')"
   ]
  },
  {
   "cell_type": "markdown",
   "id": "3cdce916",
   "metadata": {},
   "source": [
    "تمرین 2"
   ]
  },
  {
   "cell_type": "code",
   "execution_count": 5,
   "id": "309ad836",
   "metadata": {},
   "outputs": [],
   "source": [
    "def my_list(a,b):\n",
    "    import random\n",
    "    list1 = [random.randint(-10**a,10**b) for _ in range(10)]\n",
    "    even = [i for i in list1 if i %2 == 0]\n",
    "    odd = [i for i in list1 if i %2 == 1]\n",
    "    return  list1 , even , odd"
   ]
  },
  {
   "cell_type": "code",
   "execution_count": 6,
   "id": "f62fc8f7",
   "metadata": {},
   "outputs": [
    {
     "data": {
      "text/plain": [
       "([279, 405, 245, 516, 777, 662, 169, 360, 759, 92],\n",
       " [516, 662, 360, 92],\n",
       " [279, 405, 245, 777, 169, 759])"
      ]
     },
     "execution_count": 6,
     "metadata": {},
     "output_type": "execute_result"
    }
   ],
   "source": [
    "my_list(2,3)"
   ]
  },
  {
   "cell_type": "markdown",
   "id": "57323a8c",
   "metadata": {},
   "source": [
    "تمرین 3"
   ]
  },
  {
   "cell_type": "code",
   "execution_count": null,
   "id": "bef98131",
   "metadata": {},
   "outputs": [],
   "source": [
    "def divisible(a):\n",
    "    list2 = [i for i in range(a) if i % 5 == 0 or i % 6 == 0]\n",
    "    return list2"
   ]
  },
  {
   "cell_type": "markdown",
   "id": "21570ae6",
   "metadata": {},
   "source": [
    "تمرین 4"
   ]
  },
  {
   "cell_type": "code",
   "execution_count": 1,
   "id": "90db16fa",
   "metadata": {},
   "outputs": [],
   "source": [
    "def my_file(file_path): \n",
    "    import os\n",
    "    import time\n",
    "    import jdatetime\n",
    "    from datetime import datetime\n",
    "    #file_path = 't8.txt'\n",
    "    creation_time = os.path.getctime(file_path)\n",
    "    readable_time = time.ctime(creation_time)\n",
    "    jalali_date = jdatetime.datetime.fromtimestamp(creation_time)\n",
    "    with open(file_path,'r') as f:\n",
    "        x = f.read()\n",
    "        a = len(x)\n",
    "        w = len(x.split())\n",
    "    with open('t.txt', 'w') as f:\n",
    "        f.write(f\"{str(readable_time)}\\n{str(jalali_date)}\\n{str(a)}\\n{str(w)}\")\n",
    "\n",
    "    with open('t.txt', 'r') as f:\n",
    "        s = f.read()\n",
    "        print(s)"
   ]
  },
  {
   "cell_type": "code",
   "execution_count": 2,
   "id": "a6f15a3d",
   "metadata": {},
   "outputs": [
    {
     "name": "stdout",
     "output_type": "stream",
     "text": [
      "Thu May  1 18:19:17 2025\n",
      "1404-02-11 18:19:17.901529\n",
      "17\n",
      "4\n"
     ]
    }
   ],
   "source": [
    "my_file('t 1.txt')"
   ]
  },
  {
   "cell_type": "markdown",
   "id": "6fec3926",
   "metadata": {},
   "source": [
    "تمرین 5"
   ]
  }
 ],
 "metadata": {
  "kernelspec": {
   "display_name": "Python 3",
   "language": "python",
   "name": "python3"
  },
  "language_info": {
   "codemirror_mode": {
    "name": "ipython",
    "version": 3
   },
   "file_extension": ".py",
   "mimetype": "text/x-python",
   "name": "python",
   "nbconvert_exporter": "python",
   "pygments_lexer": "ipython3",
   "version": "3.10.10"
  }
 },
 "nbformat": 4,
 "nbformat_minor": 5
}
